{
 "cells": [
  {
   "metadata": {},
   "cell_type": "markdown",
   "source": "# This is the workbook for estimating BD",
   "id": "efadf809f690b3a0"
  },
  {
   "cell_type": "code",
   "id": "initial_id",
   "metadata": {
    "collapsed": true,
    "ExecuteTime": {
     "end_time": "2024-10-09T20:37:43.647924Z",
     "start_time": "2024-10-09T20:37:43.637561Z"
    }
   },
   "source": [
    "from tensorly.decomposition import tensor_train \n",
    "from tensorly import tt_to_tensor\n",
    "import numpy as np\n",
    "\n",
    "def get_estimate(input_vector, n_sites, max_bd, thershold):\n",
    "    for bd in range(1, max_bd + 1):\n",
    "        \n",
    "        rank_list = [1]\n",
    "        for i in range(n_sites - 1):\n",
    "            rank_list.append(2)\n",
    "        rank_list.append(1)\n",
    "        \n",
    "        mps_factors = tensor_train(input_vector, rank=bd)\n",
    "        mps_differ = input_vector - tt_to_tensor(mps_factors)\n",
    "        \n",
    "        diff_num = np.round(np.sum(np.abs(mps_differ)),7)\n",
    "        \n",
    "        print(f\"Error at BD {bd}: {diff_num}\")\n",
    "        \n",
    "        if diff_num < thershold:\n",
    "            return bd, diff_num\n",
    "    \n",
    "    return max_bd, diff_num\n"
   ],
   "outputs": [],
   "execution_count": 222
  },
  {
   "metadata": {
    "ExecuteTime": {
     "end_time": "2024-10-09T20:37:43.987115Z",
     "start_time": "2024-10-09T20:37:43.979548Z"
    }
   },
   "cell_type": "code",
   "source": [
    "from tensorly import random\n",
    "\n",
    "n_sites = 6\n",
    "# state_1d = np.random.rand(2 ** n_sites)\n",
    "state_1d = [0 for i in range(2 ** n_sites)]\n",
    "state_1d[32] = 1 / np.sqrt(6)  # |100000>\n",
    "state_1d[16] = 1 / np.sqrt(6)  # |010000>\n",
    "state_1d[8]  = 1 / np.sqrt(6)  # |001000>\n",
    "state_1d[4]  = 1 / np.sqrt(6)  # |000100>\n",
    "state_1d[2]  = 1 / np.sqrt(6)  # |000010>\n",
    "state_1d[1]  = 1 / np.sqrt(6)  # |000001>\n",
    "state_1d[3] = 1\n",
    "state_1d[7] = 1\n",
    "tensor_shape = (2, ) * n_sites\n",
    "max_bd = 10\n",
    "thershold = 1E-100\n",
    "\n",
    "state_1d = np.array(state_1d)\n",
    "norm = np.linalg.norm(state_1d)\n",
    "state_1d = state_1d / norm\n",
    "print(len(state_1d))\n",
    "print(f\"The norm of the input tensor: {np.linalg.norm(state_1d)}\")"
   ],
   "id": "223fd60a3e8ac1c6",
   "outputs": [
    {
     "name": "stdout",
     "output_type": "stream",
     "text": [
      "64\n",
      "The norm of the input tensor: 1.0\n"
     ]
    }
   ],
   "execution_count": 223
  },
  {
   "metadata": {
    "ExecuteTime": {
     "end_time": "2024-10-09T20:37:44.532639Z",
     "start_time": "2024-10-09T20:37:44.528136Z"
    }
   },
   "cell_type": "code",
   "source": [
    "tensor = np.reshape(state_1d, tensor_shape)\n",
    "estimated_bd, diff_num = get_estimate(tensor, n_sites, max_bd, thershold)\n",
    "print(f\"Estimated bd = {estimated_bd}\")"
   ],
   "id": "6a4fe005aea1f0ca",
   "outputs": [
    {
     "name": "stdout",
     "output_type": "stream",
     "text": [
      "Error at BD 1: 1.4410985\n",
      "Error at BD 2: 0.7863948\n",
      "Error at BD 3: 0.0\n",
      "Estimated bd = 3\n"
     ]
    }
   ],
   "execution_count": 224
  },
  {
   "metadata": {
    "ExecuteTime": {
     "end_time": "2024-10-09T20:37:46.311834Z",
     "start_time": "2024-10-09T20:37:46.292622Z"
    }
   },
   "cell_type": "code",
   "source": [
    "n_sites = 6\n",
    "state_1d = [0 for i in range(2 ** n_sites)]\n",
    "state_1d[32] = 1 / np.sqrt(6)  # |100000>\n",
    "state_1d[16] = 1 / np.sqrt(6)  # |010000>\n",
    "state_1d[8]  = 1 / np.sqrt(6)  # |001000>\n",
    "state_1d[4]  = 1 / np.sqrt(6)  # |000100>\n",
    "state_1d[2]  = 1 / np.sqrt(6)  # |000010>\n",
    "state_1d[1]  = 1 / np.sqrt(6)  # |000001>\n",
    "\n",
    "tensor_shape = (2, ) * n_sites\n",
    "max_bd = 10\n",
    "thershold = 1E-100\n",
    "\n",
    "state_1d = np.array(state_1d)\n",
    "norm = np.linalg.norm(state_1d)\n",
    "state_1d = state_1d / norm\n",
    "\n",
    "n_sites = 6\n",
    "state_1d_add = np.random.rand(2 ** n_sites) ** 0.1\n",
    "\n",
    "state_1d += state_1d_add\n",
    "norm = np.linalg.norm(state_1d)\n",
    "state_1d = state_1d / norm\n",
    "\n",
    "\n",
    "print(f\"The norm of the input tensor: {np.linalg.norm(state_1d)}\")\n",
    "tensor = np.reshape(state_1d, tensor_shape)\n",
    "estimated_bd, diff_num = get_estimate(tensor, n_sites, max_bd, thershold)\n",
    "print(estimated_bd)"
   ],
   "id": "806e300a42c5ad92",
   "outputs": [
    {
     "name": "stdout",
     "output_type": "stream",
     "text": [
      "The norm of the input tensor: 0.9999999999999999\n",
      "Error at BD 1: 0.7170554\n",
      "Error at BD 2: 0.5262594\n",
      "Error at BD 3: 0.3396048\n",
      "Error at BD 4: 0.1904756\n",
      "Error at BD 5: 0.1104263\n",
      "Error at BD 6: 0.0740752\n",
      "Error at BD 7: 0.0285745\n",
      "Error at BD 8: 0.0\n",
      "8\n"
     ]
    }
   ],
   "execution_count": 225
  },
  {
   "metadata": {
    "ExecuteTime": {
     "end_time": "2024-10-09T20:35:52.328906Z",
     "start_time": "2024-10-09T20:35:52.323993Z"
    }
   },
   "cell_type": "code",
   "source": [
    "n_sites = 6\n",
    "state_1d = np.random.rand(2 ** n_sites)\n",
    "state_1d[7] = 1\n",
    "tensor_shape = (2, ) * n_sites\n",
    "max_bd = 10\n",
    "thershold = 0.001\n",
    "\n",
    "state_1d = np.array(state_1d)\n",
    "norm = np.linalg.norm(state_1d)\n",
    "state_1d = state_1d / norm\n",
    "print(len(state_1d))"
   ],
   "id": "7bc42ec49949a0af",
   "outputs": [
    {
     "name": "stdout",
     "output_type": "stream",
     "text": [
      "64\n"
     ]
    }
   ],
   "execution_count": 214
  },
  {
   "metadata": {
    "ExecuteTime": {
     "end_time": "2024-10-09T20:30:19.210828Z",
     "start_time": "2024-10-09T20:30:19.203078Z"
    }
   },
   "cell_type": "code",
   "source": [
    "tensor = np.reshape(state_1d, tensor_shape)\n",
    "estimated_bd = get_estimate(tensor, n_sites, max_bd, thershold)\n",
    "print(f\"Estimated bd = {estimated_bd}\")"
   ],
   "id": "b5cbc2d942a0a1d4",
   "outputs": [
    {
     "name": "stdout",
     "output_type": "stream",
     "text": [
      "2.9745543\n",
      "2.2189813\n",
      "1.5239765\n",
      "0.8683777\n",
      "0.5804254\n",
      "0.2714453\n",
      "0.0310227\n",
      "0.0\n",
      "Estimated bd = 8\n"
     ]
    }
   ],
   "execution_count": 185
  },
  {
   "metadata": {},
   "cell_type": "markdown",
   "source": "# BD estimate of the actual Hamiltonian",
   "id": "439fdc8fed1fc3a8"
  },
  {
   "metadata": {
    "ExecuteTime": {
     "end_time": "2024-10-09T22:42:54.796938Z",
     "start_time": "2024-10-09T22:42:54.508598Z"
    }
   },
   "cell_type": "code",
   "source": [
    "import time\n",
    "import csv\n",
    "import inspect\n",
    "import numpy as np\n",
    "from util_hamil import test,test1,test2,test5\n",
    "from util_mutualinfo import mutual_all\n",
    "from util_covar import covariance\n",
    "from ten_network import mps1,cpd1,mps2,cpd2\n",
    "from util_save import printx,save_parameters\n",
    "from util_gfro import (obtain_fragment,\n",
    "                       rotated_hamiltonian,\n",
    "                       boson_eigenspectrum_sparse,\n",
    "                       boson_eigenspectrum_full,\n",
    "                       quad_diagonalization)\n",
    "\n",
    "\n",
    "\n",
    "n = 3 # number of modes\n",
    "\n",
    "# Define Hamiltonian using parameters\n",
    "\n",
    "h_variables = [1,1,1,0.6,0.6,0.6] # variables goes in to Hamiltonian\n",
    "\n",
    "truncation = 6  # Occuppation number (Number of basis function)\n",
    "\n",
    "def extract_function_name(func):\n",
    "    return func.__name__\n",
    "\n",
    "hamil_name = extract_function_name(test2)\n",
    "\n",
    "H = test2(h_variables) # Generate Hamiltonian iterms of OpenFermion Bosonic Operators from \"util_hamil.py\"\n",
    "                        #test1 contains only upto quadratic terms\n",
    "maxit = 1\n",
    "\n",
    "options = {\n",
    "        'maxiter' : maxit, # maximum iteration goes to the cost function\n",
    "        'gtol': 1e-7,  # Set the tolerance for cost function change\n",
    " #       'xatol': 1e-7,\n",
    "        'disp'    : False\n",
    "    }\n",
    "\n",
    "\n",
    "start_time = time.time()\n",
    "\n",
    "## Mutual information and MPS and CP errors before rotation\n",
    "#eigenvalues1,e1 = boson_eigenspectrum_sparse(H, truncation, 1)\n",
    "eigenvalues1,e1 = boson_eigenspectrum_full(H, truncation)\n",
    "e1 = e1[:,0]\n",
    "f1=e1.reshape(truncation,truncation,truncation)\n",
    "print(f1.shape)"
   ],
   "id": "8d089fabbb654aca",
   "outputs": [
    {
     "name": "stdout",
     "output_type": "stream",
     "text": [
      "(6, 6, 6)\n"
     ]
    }
   ],
   "execution_count": 227
  },
  {
   "metadata": {
    "ExecuteTime": {
     "end_time": "2024-10-09T22:43:03.453522Z",
     "start_time": "2024-10-09T22:43:03.444013Z"
    }
   },
   "cell_type": "code",
   "source": "estimated_bd = get_estimate(f1, 3, 20, thershold)",
   "id": "d84708b83c2a49bf",
   "outputs": [
    {
     "name": "stdout",
     "output_type": "stream",
     "text": [
      "Error at BD 1: 0.091342\n",
      "Error at BD 2: 0.0034609\n",
      "Error at BD 3: 0.0\n"
     ]
    }
   ],
   "execution_count": 228
  },
  {
   "metadata": {},
   "cell_type": "code",
   "outputs": [],
   "execution_count": null,
   "source": "",
   "id": "b6d538c79c4e8c8"
  }
 ],
 "metadata": {
  "kernelspec": {
   "display_name": "Python 3",
   "language": "python",
   "name": "python3"
  },
  "language_info": {
   "codemirror_mode": {
    "name": "ipython",
    "version": 2
   },
   "file_extension": ".py",
   "mimetype": "text/x-python",
   "name": "python",
   "nbconvert_exporter": "python",
   "pygments_lexer": "ipython2",
   "version": "2.7.6"
  }
 },
 "nbformat": 4,
 "nbformat_minor": 5
}
